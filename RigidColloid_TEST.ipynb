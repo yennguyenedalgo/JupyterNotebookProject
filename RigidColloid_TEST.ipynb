{
 "cells": [
  {
   "cell_type": "markdown",
   "metadata": {},
   "source": [
    "# Test model for rigid body of colloid \n",
    "\n",
    "**Author:** HOOMD-blue, YeNguyenEdalgo\n",
    "\n",
    "Simulation of colloid as a rigid body, addition of beads representing ligand on the surface of the colloid "
   ]
  },
  {
   "cell_type": "markdown",
   "metadata": {},
   "source": [
    "## Initialize"
   ]
  },
  {
   "cell_type": "code",
   "execution_count": 1185,
   "metadata": {},
   "outputs": [],
   "source": [
    "from __future__ import division\n",
    "import hoomd\n",
    "import hoomd.md"
   ]
  },
  {
   "cell_type": "code",
   "execution_count": 1186,
   "metadata": {},
   "outputs": [],
   "source": [
    "hoomd.context.initialize(\"\");"
   ]
  },
  {
   "cell_type": "code",
   "execution_count": 1187,
   "metadata": {},
   "outputs": [],
   "source": [
    "par_ls            = 1\n",
    "uc_length         = 15\n",
    "\n",
    "colloid_diameter  = 10\n",
    "A_diameter        = 1\n",
    "B_diameter        = 1\n",
    "\n",
    "colloid_pos       = (0, 0 , 0)\n",
    "A_pos             = (5.5, 0, 0)\n",
    "A_pos_1           = (4.5, 0, 0)\n",
    "A_pos_2           = (3.5, 0, 0)\n",
    "#B_pos             = (0, 0, 5)"
   ]
  },
  {
   "cell_type": "code",
   "execution_count": 1188,
   "metadata": {},
   "outputs": [
    {
     "name": "stdout",
     "output_type": "stream",
     "text": [
      "notice(2): Group \"all\" created containing 4 particles\n"
     ]
    }
   ],
   "source": [
    "uc = hoomd.lattice.unitcell(N = 4, \n",
    "                            a1 = [uc_length, 0, 0],\n",
    "                            a2 = [0, uc_length, 0],\n",
    "                            a3 = [0, 0, uc_length], \n",
    "                            dimensions = 3,\n",
    "                            position = [colloid_pos, A_pos, A_pos_1, A_pos_2],\n",
    "                            type_name = ['colloid'] + 3*['A'],\n",
    "                            mass = [10] + 3*[1],\n",
    "                            diameter = [colloid_diameter] + 3*[A_diameter],\n",
    "                            orientation = [[1, 0, 0, 1]] + 3*[[1, 0, 0, 0]])\n",
    "\n",
    "system = hoomd.init.create_lattice(uc, n=par_ls)\n"
   ]
  },
  {
   "cell_type": "code",
   "execution_count": 1189,
   "metadata": {},
   "outputs": [
    {
     "name": "stdout",
     "output_type": "stream",
     "text": [
      "tag         : 0\n",
      "position    : (0.0, 0.0, 0.0)\n",
      "image       : (0, 0, 0)\n",
      "velocity    : (0.0, 0.0, 0.0)\n",
      "acceleration: (0.0, 0.0, 0.0)\n",
      "charge      : 0.0\n",
      "mass        : 10.0\n",
      "diameter    : 10.0\n",
      "type        : colloid\n",
      "typeid      : 0\n",
      "body        : 4294967295\n",
      "orientation : (1.0, 0.0, 0.0, 1.0)\n",
      "mom. inertia: (0.0, 0.0, 0.0)\n",
      "angular_momentum: (0.0, 0.0, 0.0, 0.0)\n",
      "net_force   : (0.0, 0.0, 0.0)\n",
      "net_energy  : 0.0\n",
      "net_torque  : (0.0, 0.0, 0.0)\n",
      "net_virial  : (0.0, 0.0, 0.0, 0.0, 0.0, 0.0)\n",
      "\n",
      "tag         : 1\n",
      "position    : (5.5, 0.0, 0.0)\n",
      "image       : (0, 0, 0)\n",
      "velocity    : (0.0, 0.0, 0.0)\n",
      "acceleration: (0.0, 0.0, 0.0)\n",
      "charge      : 0.0\n",
      "mass        : 1.0\n",
      "diameter    : 1.0\n",
      "type        : A\n",
      "typeid      : 1\n",
      "body        : 4294967295\n",
      "orientation : (1.0, 0.0, 0.0, 0.0)\n",
      "mom. inertia: (0.0, 0.0, 0.0)\n",
      "angular_momentum: (0.0, 0.0, 0.0, 0.0)\n",
      "net_force   : (0.0, 0.0, 0.0)\n",
      "net_energy  : 0.0\n",
      "net_torque  : (0.0, 0.0, 0.0)\n",
      "net_virial  : (0.0, 0.0, 0.0, 0.0, 0.0, 0.0)\n",
      "\n",
      "tag         : 2\n",
      "position    : (4.5, 0.0, 0.0)\n",
      "image       : (0, 0, 0)\n",
      "velocity    : (0.0, 0.0, 0.0)\n",
      "acceleration: (0.0, 0.0, 0.0)\n",
      "charge      : 0.0\n",
      "mass        : 1.0\n",
      "diameter    : 1.0\n",
      "type        : A\n",
      "typeid      : 1\n",
      "body        : 4294967295\n",
      "orientation : (1.0, 0.0, 0.0, 0.0)\n",
      "mom. inertia: (0.0, 0.0, 0.0)\n",
      "angular_momentum: (0.0, 0.0, 0.0, 0.0)\n",
      "net_force   : (0.0, 0.0, 0.0)\n",
      "net_energy  : 0.0\n",
      "net_torque  : (0.0, 0.0, 0.0)\n",
      "net_virial  : (0.0, 0.0, 0.0, 0.0, 0.0, 0.0)\n",
      "\n",
      "tag         : 3\n",
      "position    : (3.5, 0.0, 0.0)\n",
      "image       : (0, 0, 0)\n",
      "velocity    : (0.0, 0.0, 0.0)\n",
      "acceleration: (0.0, 0.0, 0.0)\n",
      "charge      : 0.0\n",
      "mass        : 1.0\n",
      "diameter    : 1.0\n",
      "type        : A\n",
      "typeid      : 1\n",
      "body        : 4294967295\n",
      "orientation : (1.0, 0.0, 0.0, 0.0)\n",
      "mom. inertia: (0.0, 0.0, 0.0)\n",
      "angular_momentum: (0.0, 0.0, 0.0, 0.0)\n",
      "net_force   : (0.0, 0.0, 0.0)\n",
      "net_energy  : 0.0\n",
      "net_torque  : (0.0, 0.0, 0.0)\n",
      "net_virial  : (0.0, 0.0, 0.0, 0.0, 0.0, 0.0)\n",
      "\n",
      "[0 1]\n",
      "typeid       : 0\n",
      "a            : 1\n",
      "b            : 2\n",
      "type         : bondA\n",
      "\n",
      "typeid       : 1\n",
      "a            : 2\n",
      "b            : 3\n",
      "type         : bondA_1\n",
      "\n"
     ]
    }
   ],
   "source": [
    "snap = system.take_snapshot(all=True)\n",
    "\n",
    "snap.bonds.resize(2)\n",
    "snap.bonds.group[0] = [1, 2]\n",
    "snap.bonds.group[1] = [2, 3]\n",
    "snap.bonds.types = ['bondA', 'bondA_1']\n",
    "snap.bonds.typeid[0] = 0\n",
    "snap.bonds.typeid[1] = 1\n",
    "\n",
    "system.restore_snapshot(snap)\n",
    "\n",
    "for i in range(0,snap.particles.N): \n",
    "    print(system.particles[i])\n",
    "\n",
    "print(snap.bonds.typeid)\n",
    "\n",
    "for j in range(0, snap.bonds.N):\n",
    "    print(system.bonds[j])\n"
   ]
  },
  {
   "cell_type": "code",
   "execution_count": 1190,
   "metadata": {},
   "outputs": [],
   "source": [
    "harmonicA = hoomd.md.bond.harmonic()\n",
    "harmonicA.bond_coeff.set('bondA', k=1, r0=1)\n",
    "harmonicA.bond_coeff.set('bondA_1', k=1, r0=1)"
   ]
  },
  {
   "cell_type": "code",
   "execution_count": 1191,
   "metadata": {
    "scrolled": false
   },
   "outputs": [
    {
     "data": {
      "image/png": "[encoded data removed]",
      "text/plain": [
       "<fresnel.util.image_array at 0x7faf38ca1630>"
      ]
     },
     "execution_count": 1191,
     "metadata": {},
     "output_type": "execute_result"
    }
   ],
   "source": [
    "import ex_render\n",
    "ex_render.render_sphere_frame(system.take_snapshot())"
   ]
  },
  {
   "cell_type": "raw",
   "metadata": {},
   "source": [
    "\"DEACTIVATED\"\n",
    "\n",
    "system.particles.types.add('A')\n",
    "\n",
    "rigid = hoomd.md.constrain.rigid();\n",
    "rigid.set_param('colloid',\n",
    "                types = 3*['A'],\n",
    "                positions = [A_pos, A_pos_1, A_pos_2])\n",
    "\n",
    "rigid.create_bodies()\n",
    "\n",
    "snap = system.take_snapshot(all=True)"
   ]
  }
 ],
 "metadata": {
  "kernelspec": {
   "display_name": "Python 3",
   "language": "python",
   "name": "python3"
  },
  "language_info": {
   "codemirror_mode": {
    "name": "ipython",
    "version": 3
   },
   "file_extension": ".py",
   "mimetype": "text/x-python",
   "name": "python",
   "nbconvert_exporter": "python",
   "pygments_lexer": "ipython3",
   "version": "3.7.1"
  }
 },
 "nbformat": 4,
 "nbformat_minor": 2
}
