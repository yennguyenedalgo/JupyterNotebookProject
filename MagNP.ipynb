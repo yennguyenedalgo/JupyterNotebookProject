{
 "cells": [
  {
   "cell_type": "markdown",
   "metadata": {},
   "source": [
    "# HOOMD-blue Langevin dynamics simulation of colloidal system "
   ]
  },
  {
   "cell_type": "markdown",
   "metadata": {},
   "source": [
    "**Author**: _Ye Nguyen Edalgo_"
   ]
  },
  {
   "cell_type": "markdown",
   "metadata": {},
   "source": [
    "**Description**:\n",
    "    1. Running Langevin dynamics \n",
    "    2. colloidal system of 8000 nanoparticles following LJ model \n",
    "    3. adding feature of magnetic dipole-dipole interaction between NPs"
   ]
  },
  {
   "cell_type": "code",
   "execution_count": 4,
   "metadata": {},
   "outputs": [
    {
     "name": "stdout",
     "output_type": "stream",
     "text": [
      "HOOMD-blue 2.3.1 DOUBLE HPMC_MIXED SSE SSE2 SSE3 \n",
      "Compiled: 06/07/18\n",
      "Copyright 2009-2018 The Regents of the University of Michigan.\n",
      "-----\n",
      "You are using HOOMD-blue. Please cite the following:\n",
      "* J A Anderson, C D Lorenz, and A Travesset. \"General purpose molecular dynamics\n",
      "  simulations fully implemented on graphics processing units\", Journal of\n",
      "  Computational Physics 227 (2008) 5342--5359\n",
      "* J Glaser, T D Nguyen, J A Anderson, P Liu, F Spiga, J A Millan, D C Morse, and\n",
      "  S C Glotzer. \"Strong scaling of general-purpose molecular dynamics simulations\n",
      "  on GPUs\", Computer Physics Communications 192 (2015) 97--107\n",
      "-----\n",
      "HOOMD-blue is running on the CPU\n"
     ]
    }
   ],
   "source": [
    "\"\"\"Initialization\"\"\"\n",
    "import os\n",
    "from math import *\n",
    "import numpy as np\n",
    "import hoomd\n",
    "import hoomd.md\n",
    "import hoomd.deprecated\n",
    "hoomd.context.initialize(\"\");"
   ]
  },
  {
   "cell_type": "markdown",
   "metadata": {},
   "source": [
    "**Parameters**\n",
    "\n",
    "Parameter values are obtained from LAMMPS simulation of magnetic colloids by Faraudo_2011_SI [(link)](https://pubs.rsc.org/en/content/articlelanding/2011/sm/c0sm01424a#!divAbstract)"
   ]
  },
  {
   "cell_type": "code",
   "execution_count": 6,
   "metadata": {},
   "outputs": [],
   "source": [
    "\"\"\"Output filename (User defined Var)\"\"\"\n",
    "change_seed = 50\n",
    "type = 'weakCoupling'\n",
    "Equil_fname = 'Data/trajectory_Equil_5.gsd'"
   ]
  },
  {
   "cell_type": "code",
   "execution_count": 12,
   "metadata": {},
   "outputs": [
    {
     "name": "stdout",
     "output_type": "stream",
     "text": [
      "mass: 1\n",
      "sigma: 1\n",
      "epsilon: 1\n",
      "box_length: 93.0\n",
      "r_cut_LJ: 1.0\n",
      "r_cut_dd: 10.0\n",
      "time_step: 0.00015908433118154948\n",
      "damp: 6.521697902284872e-10 s\n",
      "re-scale reduced drag: 0.09734940238013003\n",
      "Temp: 0.3186111969230769\n",
      "dipole_moment: 1.262963547802122\n",
      "sim_time: 0.1 sec\n",
      "log_period: 196.078431372549 frames\n",
      "concentration is 5.211616235079696 g/L\n",
      "volume fraction is 5.207626e-03\n",
      "D_theory is 5.155060624051553e-12 m2/s\n",
      "corrected damp: 6.521697902284872e-10 s\n"
     ]
    }
   ],
   "source": [
    "\"\"\"Reference value (User defined Var)\"\"\"\n",
    "mass            = 5.24e-19                                  #kg/particle\n",
    "LJ_sigma        = 100                                       #nm \n",
    "LJ_epsilon      = 1.3e-20                                   #J or kg m2 s-2\n",
    "time_scale      = LJ_sigma*(mass/LJ_epsilon)**(1/2)*1e-9    #sec\n",
    "kB              = 1.38064852e-23                            #kg m2 s-2 K-1\n",
    "\n",
    "\"\"\"Real Units (User defined Var)\"\"\"\n",
    "par_ls          = 20                   #particle  \n",
    "box_length      = 9.3e3                 #nm\n",
    "NP_diameter     = 100                  #nm\n",
    "r_cut_LJ        = NP_diameter          #nm \n",
    "r_cut_dd        = 1000                 #nm \n",
    "time_step       = 1.01e-10              #s  \n",
    "viscosity       = 8.5251e-4            #N m-2 s-1 #NIST at water density=1000g/L\n",
    "damp            = mass / (3*pi * viscosity * NP_diameter*1e-9) #s\n",
    "#damp            = 0.5545e-9            #s\n",
    "#damp            = 55.6e-9              #s\n",
    "T               = 300                  #K  \n",
    "dipole_moment   = 1.44e-17             #J/T \n",
    "mag_const       = 4*pi*1e-7            #T m A-1 \n",
    "sim_time        = 0.1                  #s  \n",
    "log_period      = 0.51e-3              #s                   \n",
    "\n",
    "\"\"\"Lennard-Jones style Normalized\"\"\"\n",
    "mass_r          = 1 \n",
    "LJ_sigma_r      = 1 \n",
    "LJ_epsilon_r    = 1 \n",
    "box_length_r    = box_length / LJ_sigma \n",
    "NP_diameter_r   = NP_diameter / LJ_sigma \n",
    "r_cut_LJ_r      = r_cut_LJ / LJ_sigma\n",
    "r_cut_dd_r      = r_cut_dd / LJ_sigma \n",
    "time_step_r     = time_step / time_scale\n",
    "damp_r          = damp / time_scale\n",
    "drag_coeff_r    = 0.0001 * mass_r / damp_r\n",
    "T_r             = T * kB / LJ_epsilon\n",
    "dipole_moment_r = dipole_moment / ((4*pi/mag_const*(LJ_sigma*1e-9)**3*LJ_epsilon)**(1/2))                              \n",
    "sim_time_r      = sim_time / time_scale\n",
    "log_period_r    = log_period / time_scale\n",
    "\n",
    "print(\"mass: \"+str(mass_r),\n",
    "      \"sigma: \"+str(LJ_sigma_r),\n",
    "      \"epsilon: \"+str(LJ_epsilon_r),\n",
    "      \"box_length: \"+str(box_length_r), \n",
    "      \"r_cut_LJ: \"+str(r_cut_LJ_r), \n",
    "      \"r_cut_dd: \"+str(r_cut_dd_r), \n",
    "      \"time_step: \"+str(time_step_r), \n",
    "      \"damp: \"+str(damp)+ \" s\",\n",
    "      \"re-scale reduced drag: \"+str(drag_coeff_r), \n",
    "      \"Temp: \"+str(T_r),\n",
    "      \"dipole_moment: \"+str(dipole_moment_r),\n",
    "      \"sim_time: \"+str(sim_time)+\" sec\",\n",
    "      \"log_period: \"+str(sim_time/log_period)+\" frames\",\n",
    "      sep=\"\\n\")\n",
    "\n",
    "\"\"\"Concentration, volume fraction, and diffusion Check\"\"\"\n",
    "sys_vol         = box_length**3*1e-24                       #liter\n",
    "par_vol         = 4/3*pi*(NP_diameter/2)**3*1e-24           #liter\n",
    "concentration   = mass*par_ls**3*1e3/sys_vol                #g/L\n",
    "vol_fraction    = format(par_vol*par_ls**3/sys_vol, 'e')\n",
    "diffusion_coeff = kB*T / (3*pi*viscosity*NP_diameter*1e-9) \n",
    "print(\"concentration is \"+str(concentration)+\" g/L\")\n",
    "print(\"volume fraction is \"+str(vol_fraction))\n",
    "print(\"D_theory is \"+str(diffusion_coeff)+\" m2/s\")\n",
    "print(\"corrected damp: \"+str(damp)+\" s\")"
   ]
  },
  {
   "cell_type": "code",
   "execution_count": 6,
   "metadata": {},
   "outputs": [
    {
     "name": "stdout",
     "output_type": "stream",
     "text": [
      "notice(2): Group \"all\" created containing 8000 particles\n",
      "-----\n",
      "You are using tree neighbor lists. Please cite the following:\n",
      "* M P Howard, J A Anderson, A Nikoubashman, S C Glotzer, and A Z\n",
      "  Panagiotopoulos. \"Efficient neighbor list calculation for molecular simulation\n",
      "  of colloidal systems using graphics processing units\", Computer Physics\n",
      "  Communications 203 (2016) 45--52\n",
      "-----\n"
     ]
    }
   ],
   "source": [
    "\"\"\"System preparation\"\"\"\n",
    "uc = hoomd.lattice.unitcell(N = 1,\n",
    "                        a1 = [box_length_r, 0, 0],\n",
    "                        a2 = [0, box_length_r, 0], \n",
    "                        a3 = [0, 0, box_length_r], \n",
    "                        dimensions = 3, \n",
    "                        mass = [mass_r], \n",
    "                        diameter = [NP_diameter_r])\n",
    "system = hoomd.init.create_lattice(uc, n=par_ls)\n",
    "\n",
    "neighbor_ls = hoomd.md.nlist.tree();"
   ]
  },
  {
   "cell_type": "code",
   "execution_count": 7,
   "metadata": {},
   "outputs": [
    {
     "name": "stdout",
     "output_type": "stream",
     "text": [
      "notice(2): integrate.langevin/bd is using specified gamma values\n"
     ]
    }
   ],
   "source": [
    "\"\"\"Integrator\"\"\"\n",
    "hoomd.md.integrate.mode_standard(dt=time_step_r, aniso=None);\n",
    "all = hoomd.group.all();\n",
    "integrator = hoomd.md.integrate.langevin(group=all, kT=T_r, seed=change_seed); \n",
    "integrator.set_gamma('A', gamma=drag_coeff_r)"
   ]
  },
  {
   "cell_type": "code",
   "execution_count": 8,
   "metadata": {},
   "outputs": [
    {
     "data": {
      "text/plain": [
       "<hoomd.deprecated.analyze.msd at 0x10e97e7f0>"
      ]
     },
     "execution_count": 8,
     "metadata": {},
     "output_type": "execute_result"
    }
   ],
   "source": [
    "\"\"\"Output\"\"\" \n",
    "\n",
    "hoomd.analyze.log(filename='Data/log-output_'+type+'.log',\n",
    "                   quantities=['potential_energy', 'temperature'],\n",
    "                   period=log_period_r,\n",
    "                   overwrite=True);   \n",
    "\n",
    "hoomd.dump.gsd('Data/trajectory_'+type+'.gsd', period=log_period_r, group=all, overwrite=True);     \n",
    "\n",
    "hoomd.deprecated.analyze.msd(filename='Data/msd_'+type+'.log',\n",
    "                  groups=[all],\n",
    "                  period=log_period_r,\n",
    "                  overwrite=True)"
   ]
  },
  {
   "cell_type": "code",
   "execution_count": 9,
   "metadata": {},
   "outputs": [
    {
     "name": "stdout",
     "output_type": "stream",
     "text": [
      "notice(2): -- Neighborlist exclusion statistics -- :\n",
      "notice(2): Particles with 0 exclusions             : 8000\n",
      "notice(2): Neighbors included by diameter          : no\n",
      "notice(2): Neighbors excluded when in the same body: no\n",
      "** starting run **\n",
      "Time 00:00:27 | Step 16119 / 157509 | TPS 1611.84 | ETA 00:01:27\n",
      "Time 00:00:37 | Step 32521 / 157509 | TPS 1640.12 | ETA 00:01:16\n",
      "Time 00:00:47 | Step 49842 / 157509 | TPS 1732.05 | ETA 00:01:02\n",
      "Time 00:00:57 | Step 65944 / 157509 | TPS 1610.17 | ETA 00:00:56\n",
      "Time 00:01:07 | Step 82252 / 157509 | TPS 1630.78 | ETA 00:00:46\n",
      "Time 00:01:17 | Step 95804 / 157509 | TPS 1354.99 | ETA 00:00:45\n",
      "Time 00:01:27 | Step 107559 / 157509 | TPS 1175.44 | ETA 00:00:42\n",
      "Time 00:01:37 | Step 125001 / 157509 | TPS 1744.03 | ETA 00:00:18\n",
      "Time 00:01:47 | Step 141247 / 157509 | TPS 1624.58 | ETA 00:00:10\n",
      "Time 00:01:57 | Step 157241 / 157509 | TPS 1599.4 | ETA 00:00:00\n",
      "Time 00:01:57 | Step 157509 / 157509 | TPS 1706.04 | ETA 00:00:00\n",
      "Average TPS: 1572.52\n",
      "---------\n",
      "-- Neighborlist stats:\n",
      "0 normal updates / 0 forced updates / 0 dangerous updates\n",
      "n_neigh_min: 0 / n_neigh_max: 0 / n_neigh_avg: 0\n",
      "shortest rebuild period: 100\n",
      "** run complete **\n"
     ]
    }
   ],
   "source": [
    "hoomd.run(sim_time_r);"
   ]
  },
  {
   "cell_type": "markdown",
   "metadata": {},
   "source": [
    "**Calculate msd**\n",
    "\n",
    "\\begin{equation}\n",
    "    \\langle r^2 \\rangle = \\langle x^2 \\rangle + \\langle y^2 \\rangle + \\langle z^2 \\rangle\n",
    "\\end{equation}\n",
    "\n",
    "\\begin{equation}\n",
    "    \\langle x^2 \\rangle= \\frac{1}{N}\\sum^N_{i=1}\\big(x(t)-x(0)\\big)^2\n",
    "\\end{equation}\n",
    "\n",
    "\\begin{equation}\n",
    "    \\langle y^2 \\rangle= \\frac{1}{N}\\sum^N_{i=1}\\big(y(t)-y(0)\\big)^2\n",
    "\\end{equation}\n",
    "\n",
    "\\begin{equation}\n",
    "    \\langle z^2 \\rangle= \\frac{1}{N}\\sum^N_{i=1}\\big(z(t)-z(0)\\big)^2\n",
    "\\end{equation}\n",
    "\n",
    "where $\\langle r^2 \\rangle$ is the mean square displacement for a Brownian partilce in 3D; $x(t)$, $y(t)$, $z(t)$ are positions of each particle in the $xyz$ coordinates at time $t$, respectively; $N$ is the number of particles.\n",
    "\n",
    "**Calculate diffusion coefficient**\n",
    "\n",
    "Diffusion coefficient obtained from the simulation trajectory ($D_{sim}$) is evaluated as:\n",
    "\n",
    "\\begin{equation}\n",
    "     D_{sim} = \\frac{\\langle r^2 \\rangle}{6t}\n",
    "\\end{equation}\n",
    "\n",
    "$D_{sim}$ is compared with the diffusion coefficient obtained from theory $D_{theory}$ given as:\n",
    "\n",
    "\\begin{equation}\n",
    "    D_{theory} = \\frac{k_BT}{3\\pi\\eta d_p}\n",
    "\\label{D_theory}\n",
    "\\end{equation}\n",
    "\n",
    "From Stokes's Law, the solvent viscosity $\\eta$ is given as:\n",
    "\n",
    "\\begin{equation}\n",
    "    \\eta = \\frac{m}{3\\pi\\tau d_p}\n",
    "\\label{Viscosity}\n",
    "\\end{equation}\n",
    "\n",
    "where $k_B T$ is the Boltzmann temperature, $d_p$ is the diameter of the colloidal particle, $m$ is the mass of each particle, and $\\tau$ is the damping parameter. "
   ]
  },
  {
   "cell_type": "code",
   "execution_count": 13,
   "metadata": {},
   "outputs": [
    {
     "name": "stdout",
     "output_type": "stream",
     "text": [
      "D_sim = 2.623133333333333e-09 m2/s\n",
      "D_theory is 5.155060624051553e-12 m2/s\n"
     ]
    },
    {
     "data": {
      "image/png": "[encoded data removed]",
      "text/plain": [
       "<Figure size 840x560 with 1 Axes>"
      ]
     },
     "metadata": {},
     "output_type": "display_data"
    }
   ],
   "source": [
    "\"\"\"Plotting msd vs. time\"\"\"\n",
    "import numpy as np \n",
    "\n",
    "msd = np.genfromtxt(fname='Data/msd_'+type+'.log', skip_header=True);\n",
    "x = np.arange(0,sim_time,log_period) \n",
    "y = 1/6 * msd * (LJ_sigma*1e-9)**2\n",
    "\n",
    "Dif_coef = 1/6 * msd[-1,0] * (LJ_sigma*1e-9)**2 / sim_time\n",
    "print('D_sim = '+str(Dif_coef)+' m2/s')\n",
    "print(\"D_theory is \"+str(diffusion_coeff)+\" m2/s\")\n",
    "\n",
    "from matplotlib import pyplot as plt\n",
    "plt.figure(figsize=None, dpi=140);\n",
    "plt.plot(x, y, 'x');\n",
    "plt.xlabel('time step (sec)');\n",
    "plt.ylabel('MSD/6 (m2)')\n",
    "#plt.ylabel('$\\frac{\\langle r^2 \\rangle}{6}$ (m^2)');\n",
    "plt.grid(True)\n",
    "plt.savefig('Figures/msd_calc_'+type+'.pdf')"
   ]
  },
  {
   "cell_type": "code",
   "execution_count": null,
   "metadata": {},
   "outputs": [],
   "source": [
    "\"\"\"Lennard-Jones Potential\"\"\"\n",
    "LJ = hoomd.md.pair.lj(r_cut=r_cut_LJ_r, nlist=neighbor_ls);\n",
    "LJ.pair_coeff.set('A', 'A', epsilon=LJ_epsilon_r, sigma=LJ_sigma_r);\n",
    "\n",
    "\"\"\"Dipole-Dipole Potential: SWITCH ON After system is equilibrated\"\"\" \n",
    "DD = hoomd.md.pair.dipole(r_cut=r_cut_dd_r, nlist=neighbor_ls)\n",
    "DD.pair_coeff.set('A', 'A', mu=dipole_moment_r, A=1, kappa=0.0)"
   ]
  },
  {
   "cell_type": "code",
   "execution_count": null,
   "metadata": {},
   "outputs": [],
   "source": [
    "\"\"\"Visualization\"\"\"\n",
    "import ex_render\n",
    "ex_render.display_movie(ex_render.render_sphere_frame, 'Data/trajectory_'+type+'.gsd');"
   ]
  }
 ],
 "metadata": {
  "kernelspec": {
   "display_name": "Python 3",
   "language": "python",
   "name": "python3"
  },
  "language_info": {
   "codemirror_mode": {
    "name": "ipython",
    "version": 3
   },
   "file_extension": ".py",
   "mimetype": "text/x-python",
   "name": "python",
   "nbconvert_exporter": "python",
   "pygments_lexer": "ipython3",
   "version": "3.6.5"
  }
 },
 "nbformat": 4,
 "nbformat_minor": 2
}
