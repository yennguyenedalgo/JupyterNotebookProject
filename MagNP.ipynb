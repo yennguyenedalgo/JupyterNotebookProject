{
 "cells": [
  {
   "cell_type": "markdown",
   "metadata": {},
   "source": [
    "# HOOMD-blue Langevin dynamics simulation of colloidal system "
   ]
  },
  {
   "cell_type": "markdown",
   "metadata": {},
   "source": [
    "**Author**: _Ye Nguyen Edalgo_"
   ]
  },
  {
   "cell_type": "markdown",
   "metadata": {},
   "source": [
    "**Description:**\n",
    "    1. Running Langevin dynamics \n",
    "    2. colloidal system of 8000 nanoparticles following LJ model \n",
    "    3. adding feature of magnetic dipole-dipole interaction between NPs\n",
    "    \n",
    "**Reference:**\n",
    "1. Andreu JS, Camacho J, Faraudo J.   Aggregation of superparamagnetic col-\n",
    "loids in magnetic fields:  The quest for the equilibrium state.   Soft Matter.\n",
    "2011;7(6):2336–2339 [(link)](https://drive.google.com/open?id=1cA7Hk4Fqd04B9QodT0V7F7LH0apfNCsE)\n",
    "2. Dr. Schiller lecture on Langevin dynamics [(link)](https://nbviewer.jupyter.org/github/yennguyenedalgo/MSE-8900-Multiscale-Modeling/blob/master/Lecture-3-2_Langevin-Dynamics.ipynb)"
   ]
  },
  {
   "cell_type": "code",
   "execution_count": 11,
   "metadata": {},
   "outputs": [],
   "source": [
    "\"\"\"Initialization\"\"\"\n",
    "import os\n",
    "from math import *\n",
    "import numpy as np\n",
    "import hoomd\n",
    "import hoomd.md\n",
    "import hoomd.deprecated\n",
    "hoomd.context.initialize(\"\");"
   ]
  },
  {
   "cell_type": "markdown",
   "metadata": {},
   "source": [
    "**Parameters**\n",
    "\n",
    "Parameter values are obtained from LAMMPS simulation of magnetic colloids by Faraudo_2011_SI [(link)](https://pubs.rsc.org/en/content/articlelanding/2011/sm/c0sm01424a#!divAbstract)"
   ]
  },
  {
   "cell_type": "code",
   "execution_count": 12,
   "metadata": {},
   "outputs": [],
   "source": [
    "\"\"\"Output filename (User defined Var)\"\"\"\n",
    "change_seed = 99\n",
    "type = 'BaseCase_a9pt3'\n",
    "Equil_fname = 'Data/trajectory_Equil_5.gsd'"
   ]
  },
  {
   "cell_type": "code",
   "execution_count": 13,
   "metadata": {},
   "outputs": [
    {
     "name": "stdout",
     "output_type": "stream",
     "text": [
      "mass: 1\n",
      "sigma: 100 nm\n",
      "epsilon: 1 J or kg m2/s2\n",
      "time scale: 6.348833932911799e-07 s\n",
      "box_length: 9300.0 nm\n",
      "r_cut_LJ: 100 nm\n",
      "r_cut_dd: 1000 nm\n",
      "time_step: 1.01e-10 s\n",
      "drag coefficient: 8.034717459335505e-10 kg/s\n",
      "damp: 6.521697902284872e-10 s\n",
      "Temp: 300 K\n",
      "dipole_moment: 1.262963547802122\n",
      "sim_time: 0.1 sec\n",
      "total frames: 196.078431372549 frames\n",
      "concentration is 5.211616235079696 g/L\n",
      "volume fraction is 5.207626e-03\n",
      "D_theory is 5.155060624051553e-12 m2/s\n"
     ]
    }
   ],
   "source": [
    "\"\"\"Reference value (User defined Var)\"\"\"\n",
    "mass            = 5.24e-19                                  #kg/particle\n",
    "LJ_sigma        = 100                                       #nm \n",
    "LJ_epsilon      = 1.3e-20                                   #J or kg m2 s-2\n",
    "time_scale      = LJ_sigma*(mass/LJ_epsilon)**(1/2)*1e-9    #sec\n",
    "kB              = 1.38064852e-23                            #kg m2 s-2 K-1\n",
    "\n",
    "\"\"\"Real Units (User defined Var)\"\"\"\n",
    "par_ls          = 20                   #particle  \n",
    "box_length      = 9.3e3                #nm\n",
    "NP_diameter     = 100                  #nm\n",
    "r_cut_LJ        = NP_diameter          #nm \n",
    "r_cut_dd        = 1000                 #nm \n",
    "time_step       = 1.01e-10              #s  \n",
    "viscosity       = 8.5251e-4            #N m-2 s-1 #NIST at water density=1000g/L\n",
    "drag_coeff      = 3*pi * viscosity * NP_diameter*1e-9 #kg s-1  \n",
    "T               = 300                  #K  \n",
    "dipole_moment   = 1.44e-17             #J/T \n",
    "mag_const       = 4*pi*1e-7            #T m A-1 \n",
    "sim_time        = 0.1                  #s  \n",
    "log_period      = 0.51e-3              #s                   \n",
    "\n",
    "\"\"\"Lennard-Jones style Normalized\"\"\"\n",
    "mass_r          = 1 \n",
    "LJ_sigma_r      = 1 \n",
    "LJ_epsilon_r    = 1 \n",
    "box_length_r    = box_length / LJ_sigma \n",
    "NP_diameter_r   = NP_diameter / LJ_sigma \n",
    "r_cut_LJ_r      = r_cut_LJ / LJ_sigma\n",
    "r_cut_dd_r      = r_cut_dd / LJ_sigma \n",
    "time_step_r     = time_step / time_scale\n",
    "drag_coeff_r    = drag_coeff / mass * time_scale \n",
    "T_r             = T * kB / LJ_epsilon\n",
    "dipole_moment_r = dipole_moment / ((4*pi/mag_const*(LJ_sigma*1e-9)**3*LJ_epsilon)**(1/2))                              \n",
    "sim_time_r      = sim_time / time_scale\n",
    "log_period_r    = log_period / time_scale\n",
    "\n",
    "print(\"mass: \"+str(mass_r),\n",
    "      \"sigma: \"+str(LJ_sigma)+' nm',\n",
    "      \"epsilon: \"+str(LJ_epsilon_r)+' J or kg m2/s2',\n",
    "      \"time scale: \"+str(time_scale)+\" s\",\n",
    "      \"box_length: \"+str(box_length)+' nm', \n",
    "      \"r_cut_LJ: \"+str(r_cut_LJ)+' nm', \n",
    "      \"r_cut_dd: \"+str(r_cut_dd)+' nm', \n",
    "      \"time_step: \"+str(time_step)+' s', \n",
    "      \"drag coefficient: \"+str(drag_coeff)+' kg/s',\n",
    "      \"damp: \"+str(mass/drag_coeff)+' s',\n",
    "      \"Temp: \"+str(T)+' K',\n",
    "      \"dipole_moment: \"+str(dipole_moment_r),\n",
    "      \"sim_time: \"+str(sim_time)+\" sec\",\n",
    "      \"total frames: \"+str(sim_time/log_period)+\" frames\",\n",
    "      sep=\"\\n\")\n",
    "\n",
    "\"\"\"Concentration, volume fraction, and diffusion Check\"\"\"\n",
    "sys_vol         = box_length**3*1e-24                       #liter\n",
    "par_vol         = 4/3*pi*(NP_diameter/2)**3*1e-24           #liter\n",
    "concentration   = mass*par_ls**3*1e3/sys_vol                #g/L\n",
    "vol_fraction    = format(par_vol*par_ls**3/sys_vol, 'e')\n",
    "diffusion_coeff = kB*T / (3*pi*viscosity*NP_diameter*1e-9) \n",
    "print(\"concentration is \"+str(concentration)+\" g/L\")\n",
    "print(\"volume fraction is \"+str(vol_fraction))\n",
    "print(\"D_theory is \"+str(diffusion_coeff)+\" m2/s\")"
   ]
  },
  {
   "cell_type": "code",
   "execution_count": 14,
   "metadata": {},
   "outputs": [
    {
     "name": "stdout",
     "output_type": "stream",
     "text": [
      "notice(2): Group \"all\" created containing 8000 particles\n",
      "-----\n",
      "You are using tree neighbor lists. Please cite the following:\n",
      "* M P Howard, J A Anderson, A Nikoubashman, S C Glotzer, and A Z\n",
      "  Panagiotopoulos. \"Efficient neighbor list calculation for molecular simulation\n",
      "  of colloidal systems using graphics processing units\", Computer Physics\n",
      "  Communications 203 (2016) 45--52\n",
      "-----\n"
     ]
    }
   ],
   "source": [
    "\"\"\"System preparation\"\"\"\n",
    "uc = hoomd.lattice.unitcell(N = 1,\n",
    "                        a1 = [box_length_r, 0, 0],\n",
    "                        a2 = [0, box_length_r, 0], \n",
    "                        a3 = [0, 0, box_length_r], \n",
    "                        dimensions = 3, \n",
    "                        mass = [mass_r], \n",
    "                        diameter = [NP_diameter_r])\n",
    "system = hoomd.init.create_lattice(uc, n=par_ls)\n",
    "\n",
    "neighbor_ls = hoomd.md.nlist.tree();"
   ]
  },
  {
   "cell_type": "markdown",
   "metadata": {},
   "source": [
    "**Brownian Dynamics:**\n",
    "\n",
    "Notice that $\\frac{m}{\\gamma}<<\\delta t$ indicating that the system is overdamped. Hence the overdamped Langevin equation, also called the Brownian dynamics, is considered (Source: [link](https://hoomd-blue.readthedocs.io/en/stable/module-md-integrate.html#hoomd.md.integrate.brownian)):\n",
    "\n",
    "\\begin{equation}\n",
    "    \\frac{d\\vec{x}}{dt} = \\frac{\\vec{F}_C + \\vec{F}_R}{\\gamma}\n",
    "\\end{equation}\n",
    "\n",
    "where $m$ is the mass of one colloidal particle, $gamma$ is the drag coefficient from the implicit solvent, $\\vec{F}_C$ and $\\vec{F}_R$ are the interaction forces within colloids and the random collision forces between solvent molecules and colloids, respectively."
   ]
  },
  {
   "cell_type": "code",
   "execution_count": 15,
   "metadata": {},
   "outputs": [
    {
     "name": "stdout",
     "output_type": "stream",
     "text": [
      "notice(2): integrate.langevin/bd is using specified gamma values\n"
     ]
    }
   ],
   "source": [
    "\"\"\"Integrator\"\"\"\n",
    "\n",
    "hoomd.md.integrate.mode_standard(dt=time_step_r, aniso=None);\n",
    "all = hoomd.group.all();\n",
    "integrator = hoomd.md.integrate.brownian(group=all, kT=T_r, seed=change_seed); \n",
    "integrator.set_gamma('A', gamma=drag_coeff_r)"
   ]
  },
  {
   "cell_type": "code",
   "execution_count": 16,
   "metadata": {},
   "outputs": [
    {
     "data": {
      "text/plain": [
       "<hoomd.deprecated.analyze.msd at 0x1136912e8>"
      ]
     },
     "execution_count": 16,
     "metadata": {},
     "output_type": "execute_result"
    }
   ],
   "source": [
    "\"\"\"Output\"\"\" \n",
    "\n",
    "hoomd.analyze.log(filename='Data/log-output_'+type+'.log',\n",
    "                   quantities=['potential_energy', 'temperature'],\n",
    "                   period=log_period_r,\n",
    "                   overwrite=True);   \n",
    "\n",
    "hoomd.dump.gsd('Data/trajectory_'+type+'.gsd', period=log_period_r, group=all, overwrite=True);     \n",
    "\n",
    "hoomd.deprecated.analyze.msd(filename='Data/msd_'+type+'.log',\n",
    "                  groups=[all],\n",
    "                  period=log_period_r,\n",
    "                  overwrite=True)"
   ]
  },
  {
   "cell_type": "code",
   "execution_count": 17,
   "metadata": {},
   "outputs": [
    {
     "name": "stdout",
     "output_type": "stream",
     "text": [
      "notice(2): -- Neighborlist exclusion statistics -- :\n",
      "notice(2): Particles with 0 exclusions             : 8000\n",
      "notice(2): Neighbors included by diameter          : no\n",
      "notice(2): Neighbors excluded when in the same body: no\n",
      "** starting run **\n",
      "Time 00:00:10 | Step 6391 / 157509 | TPS 639.077 | ETA 00:03:56\n",
      "Time 00:00:20 | Step 13246 / 157509 | TPS 685.465 | ETA 00:03:30\n",
      "Time 00:00:30 | Step 20504 / 157509 | TPS 725.723 | ETA 00:03:08\n",
      "Time 00:00:40 | Step 27908 / 157509 | TPS 740.335 | ETA 00:02:55\n",
      "Time 00:00:50 | Step 34973 / 157509 | TPS 706.482 | ETA 00:02:53\n",
      "Time 00:01:00 | Step 42032 / 157509 | TPS 705.812 | ETA 00:02:43\n",
      "Time 00:01:10 | Step 49241 / 157509 | TPS 720.874 | ETA 00:02:30\n",
      "Time 00:01:20 | Step 56304 / 157509 | TPS 706.168 | ETA 00:02:23\n",
      "Time 00:01:30 | Step 63407 / 157509 | TPS 710.235 | ETA 00:02:12\n",
      "Time 00:01:40 | Step 70207 / 157509 | TPS 679.972 | ETA 00:02:08\n",
      "Time 00:01:50 | Step 77059 / 157509 | TPS 685.099 | ETA 00:01:57\n",
      "Time 00:02:00 | Step 83288 / 157509 | TPS 622.878 | ETA 00:01:59\n",
      "Time 00:02:10 | Step 88364 / 157509 | TPS 507.552 | ETA 00:02:16\n",
      "Time 00:02:20 | Step 95377 / 157509 | TPS 701.252 | ETA 00:01:28\n",
      "Time 00:02:30 | Step 102261 / 157509 | TPS 688.318 | ETA 00:01:20\n",
      "Time 00:02:40 | Step 109034 / 157509 | TPS 677.231 | ETA 00:01:11\n",
      "Time 00:02:50 | Step 116007 / 157509 | TPS 697.222 | ETA 00:00:59\n",
      "Time 00:03:00 | Step 122912 / 157509 | TPS 690.474 | ETA 00:00:50\n",
      "Time 00:03:10 | Step 129932 / 157509 | TPS 701.923 | ETA 00:00:39\n",
      "Time 00:03:20 | Step 136621 / 157509 | TPS 668.822 | ETA 00:00:31\n",
      "Time 00:03:30 | Step 143593 / 157509 | TPS 697.153 | ETA 00:00:19\n",
      "Time 00:03:40 | Step 150757 / 157509 | TPS 716.35 | ETA 00:00:09\n",
      "Time 00:03:49 | Step 157509 / 157509 | TPS 710.544 | ETA 00:00:00\n",
      "Average TPS: 686.24\n",
      "---------\n",
      "-- Neighborlist stats:\n",
      "0 normal updates / 0 forced updates / 0 dangerous updates\n",
      "n_neigh_min: 0 / n_neigh_max: 0 / n_neigh_avg: 0\n",
      "shortest rebuild period: 100\n",
      "** run complete **\n"
     ]
    }
   ],
   "source": [
    "hoomd.run(sim_time_r);"
   ]
  },
  {
   "cell_type": "markdown",
   "metadata": {},
   "source": [
    "**Calculate diffusion coefficient**\n",
    "\n",
    "Diffusion coefficient obtained from the simulation trajectory ($D_{sim}$) is evaluated as:\n",
    "\n",
    "\\begin{equation}\n",
    "     D_{sim} = \\frac{\\langle r^2 \\rangle}{6t}\n",
    "\\end{equation}\n",
    "\n",
    "$D_{sim}$ is compared with the diffusion coefficient obtained from theory $D_{theory}$ given as:\n",
    "\n",
    "\\begin{equation}\n",
    "    D_{theory} = \\frac{k_BT}{3\\pi\\eta d_p}\n",
    "\\label{D_theory}\n",
    "\\end{equation}\n",
    "\n",
    "where $\\langle r^2 \\rangle$ is the mean square displacement (MSD) obtained directly from hoomd outputs (Also, codes to calculate MSD from hoomd trajectory outputs are self-written [here](https://nbviewer.jupyter.org/github/yennguyenedalgo/JupyterNotebookProject/blob/master/msd_gsd.ipynb)) , $k_B T$ is the Boltzmann temperature, $\\eta$ is the solvent viscosity, and $d_p$ is the diameter of the colloidal particle.\n",
    "\n",
    "**Note:** When calculating diffusion coefficient, the purely diffusive motion is obtained in the absence of colloidal interactions ($F_C$ = 0). Hence implementation of LJ interaction is turned off."
   ]
  },
  {
   "cell_type": "code",
   "execution_count": 20,
   "metadata": {},
   "outputs": [
    {
     "name": "stdout",
     "output_type": "stream",
     "text": [
      "BaseCase_a9pt3\n",
      "D_sim = 8.192832123333335e-16 m2/s\n",
      "D_theory is 5.155060624051553e-12 m2/s\n"
     ]
    },
    {
     "data": {
      "image/png": "[encoded data removed]",
      "text/plain": [
       "<Figure size 840x560 with 1 Axes>"
      ]
     },
     "metadata": {},
     "output_type": "display_data"
    }
   ],
   "source": [
    "\"\"\"Plotting msd vs. time\"\"\"\n",
    "import numpy as np \n",
    "from matplotlib import pyplot as plt\n",
    "\n",
    "msd = np.genfromtxt(fname='Data/msd_'+type+'.log', skip_header=True);\n",
    "print(type)\n",
    "\n",
    "x = msd[:,0] * time_scale \n",
    "y = 1/6 * msd[:,1] * (LJ_sigma*1e-9)**2\n",
    "\n",
    "D_sim = 1/6 * msd[-1,1] * (LJ_sigma*1e-9)**2 /sim_time\n",
    "print('D_sim = '+str(D_sim)+' m2/s')\n",
    "print(\"D_theory is \"+str(diffusion_coeff)+\" m2/s\")\n",
    "\n",
    "plt.figure(figsize=None, dpi=140);\n",
    "plt.plot(x, y, 'x');\n",
    "plt.xlabel('time step (sec)');\n",
    "plt.ylabel('1/6*MSD (m^2)');\n",
    "plt.grid(True)\n",
    "plt.savefig('Figures/msd_'+type+'.pdf')"
   ]
  },
  {
   "cell_type": "code",
   "execution_count": null,
   "metadata": {},
   "outputs": [],
   "source": [
    "\"\"\"Lennard-Jones Potential\"\"\"\n",
    "LJ = hoomd.md.pair.lj(r_cut=r_cut_LJ_r, nlist=neighbor_ls);\n",
    "LJ.pair_coeff.set('A', 'A', epsilon=LJ_epsilon_r, sigma=LJ_sigma_r);\n",
    "\n",
    "\"\"\"Dipole-Dipole Potential: SWITCH ON After system is equilibrated\"\"\" \n",
    "DD = hoomd.md.pair.dipole(r_cut=r_cut_dd_r, nlist=neighbor_ls)\n",
    "DD.pair_coeff.set('A', 'A', mu=dipole_moment_r, A=1, kappa=0.0)"
   ]
  },
  {
   "cell_type": "code",
   "execution_count": null,
   "metadata": {},
   "outputs": [],
   "source": [
    "\"\"\"Visualization\"\"\"\n",
    "import ex_render\n",
    "ex_render.display_movie(ex_render.render_sphere_frame, 'Data/trajectory_'+type+'.gsd');"
   ]
  }
 ],
 "metadata": {
  "kernelspec": {
   "display_name": "Python 3",
   "language": "python",
   "name": "python3"
  },
  "language_info": {
   "codemirror_mode": {
    "name": "ipython",
    "version": 3
   },
   "file_extension": ".py",
   "mimetype": "text/x-python",
   "name": "python",
   "nbconvert_exporter": "python",
   "pygments_lexer": "ipython3",
   "version": "3.6.5"
  }
 },
 "nbformat": 4,
 "nbformat_minor": 2
}
