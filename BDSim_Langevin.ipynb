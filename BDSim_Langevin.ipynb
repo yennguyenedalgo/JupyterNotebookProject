{
 "cells": [
  {
   "cell_type": "markdown",
   "metadata": {},
   "source": [
    "# Langevin Dynamics"
   ]
  },
  {
   "cell_type": "markdown",
   "metadata": {},
   "source": [
    "**Author**: "
   ]
  },
  {
   "cell_type": "code",
   "execution_count": 22,
   "metadata": {},
   "outputs": [],
   "source": [
    "import numpy as np\n",
    "import math\n",
    "import scipy as sp\n",
    "from scipy import special\n",
    "import matplotlib.pyplot as plt\n",
    "from mpl_toolkits.mplot3d import Axes3D"
   ]
  },
  {
   "cell_type": "code",
   "execution_count": 44,
   "metadata": {},
   "outputs": [
    {
     "data": {
      "text/plain": [
       "array([[-1.19374328, -0.22205807, -0.47206972],\n",
       "       [-0.73005774, -1.76768902, -0.80318653]])"
      ]
     },
     "execution_count": 44,
     "metadata": {},
     "output_type": "execute_result"
    }
   ],
   "source": [
    "def MBdist(natoms,temp,kbn,massn):\n",
    "    '''Use Maxwell-Boltzmann distribution to describe how molecules are moving\n",
    "    between velocities v & v+dv. This code utilizes the Box-Muller method.\n",
    "    input:\n",
    "    natoms - number atoms\n",
    "    temp - temperature\n",
    "    kbn - boltzmann constant in natural units\n",
    "    massn - mass in natural units\n",
    "    ouput:\n",
    "    vel - velocity distribution array natoms x dim\n",
    "    '''\n",
    "    # Defining variables for this function\n",
    "    dim = 3\n",
    "    \n",
    "    # Initial velocity\n",
    "    # Creating a natoms_row x dim_column zero matrix \n",
    "    vel = np.zeros((natoms,dim))\n",
    "    \n",
    "    # Creating a dim_row x 1 momentum vector (3x1)\n",
    "    momentum = np.zeros((dim,1)) \n",
    "    \n",
    "    # Choose a range of velocities randomly, using the Box-Muller Method.\n",
    "    #for i in range(dim):\n",
    "    #    v = np.random.rand(natoms)\n",
    "    #    veldist = np.sqrt(-2.*np.log10(v))*np.cos(2.*np.pi*v)\n",
    "    #    # Multiply by np.sqrt(k*T/mass) to get proper distribution of \n",
    "    #    # velocities. units m/s\n",
    "    #    vel[:,i] = np.sqrt(kbn*temp/massn)*veldist \n",
    "    #    # Units of kg/mol*m/s \n",
    "    #    momentum[i] = massn*np.sum(vel[:,i])\n",
    "\n",
    "    for i in range(natoms):\n",
    "        for j in range (dim):\n",
    "            vel[i,j] = np.random.normal(loc = 0.0, scale = np.sqrt(kbn*tempn/massn))\n",
    "    \n",
    "    # Momentum per atom, units m/s\n",
    "    ppa = momentum/(natoms*massn)\n",
    "    # Initial kinetic energy\n",
    "    KE = 0.0\n",
    "    \n",
    "    for i in range(dim):\n",
    "        # Correct so there is no overall momentum, units m/s\n",
    "        vel[:,i] -= ppa[i]\n",
    "        # KE = KE + np.sum(np.square(vel[:,i])) np.square: x*x, of the same \n",
    "        #shape and dtype as x. Returns scalar if x is a scalar. Units (m/s)**2\n",
    "        KE += np.sum(np.square(vel[:,i]))\n",
    "    \n",
    "    KE *= 0.5\n",
    "    # If T is specified, scale velocities\n",
    "    KE_T = (3.0/2.0)*(natoms*temp)\n",
    "    rescale = np.sqrt(KE_T/KE)\n",
    "    vel *= rescale\n",
    "    \n",
    "    \"\"\"Print a txt file for the specified move\"\"\"\n",
    "    filename = 'initialvelocity.txt'\n",
    "    FILE = open(filename, 'w')\n",
    "    FILE.write('%d \\n' % natoms)\n",
    "    for i in range(natoms):\n",
    "        FILE.write('Ar %8.3f %8.3f %8.3f \\n' % (vel[i,0],vel[i,1],vel[i,2]))\n",
    "    FILE.close()\n",
    "\n",
    "    return vel\n",
    "natoms = 2\n",
    "massn = 1\n",
    "en = 1.0\n",
    "sn = 1.0\n",
    "kbn = 1.0\n",
    "massn = 1.0\n",
    "sigma = 1.0\n",
    "#densityn = density/sigma**3\n",
    "tempn = 1.0\n",
    "rcutn = 3.0\n",
    "MBdist(natoms,1.0,1.0,massn)"
   ]
  },
  {
   "cell_type": "code",
   "execution_count": 45,
   "metadata": {},
   "outputs": [
    {
     "data": {
      "text/plain": [
       "array([[-40.93387871, -27.89373115, -22.48046089],\n",
       "       [ -0.70209859,  -8.24236154,   8.16692231]])"
      ]
     },
     "execution_count": 45,
     "metadata": {},
     "output_type": "execute_result"
    }
   ],
   "source": [
    "def LangevinForce(natoms,v,f):\n",
    "    '''\n",
    "    input:\n",
    "    v - velocities\n",
    "    f - LJ forces (one big array (a1,a2,etc.) where a1 = [x1,y1,z1], a2 = [x2,y2,z2], etc.)\n",
    "    output:\n",
    "    force - forces from Langevin Dynamics\n",
    "    '''\n",
    "    LangF = np.zeros((natoms,3))\n",
    "    for i in range(natoms):\n",
    "        LangFx = 0.0\n",
    "        LangFy = 0.0\n",
    "        LangFz = 0.0\n",
    "        # Langevin_f(n) += f(n) - gamma*mass*v(n) + sigmaLang*eta\n",
    "        LangFx += f[i][0] - gamma*v[i,0] + sigmaLangForce*np.random.normal()\n",
    "        LangFy += f[i][1] - gamma*v[i,1] + sigmaLangForce*np.random.normal()\n",
    "        LangFz += f[i][2] - gamma*v[i,2] + sigmaLangForce*np.random.normal()\n",
    "        \n",
    "        LangF[i]=[LangFx,LangFy,LangFz]\n",
    "    #print(LangF)\n",
    "    return LangF\n",
    "\n",
    "natoms = 2\n",
    "massn = 1\n",
    "en = 1.0\n",
    "sn = 1.0\n",
    "kbn = 1.0\n",
    "massn = 1.0\n",
    "sigma = 1.0\n",
    "#densityn = density/sigma**3\n",
    "tempn = 1.0\n",
    "rcutn = 3.0\n",
    "gamma = 1\n",
    "timestep = 0.001\n",
    "sigmaLangForce = np.sqrt(2.0*gamma*massn*tempn/timestep)\n",
    "a1 = np.array([0, 1, 2])\n",
    "a2 = np.array([3, 2,1])\n",
    "f = (a1, a2)\n",
    "v1 = [3, 2, 1]\n",
    "v2 = [0, 1, 2]\n",
    "v  = MBdist(natoms,1.0,1.0,massn)\n",
    "LangevinForce(natoms, v, f)"
   ]
  },
  {
   "cell_type": "code",
   "execution_count": null,
   "metadata": {},
   "outputs": [],
   "source": []
  }
 ],
 "metadata": {
  "kernelspec": {
   "display_name": "Python 3",
   "language": "python",
   "name": "python3"
  },
  "language_info": {
   "codemirror_mode": {
    "name": "ipython",
    "version": 3
   },
   "file_extension": ".py",
   "mimetype": "text/x-python",
   "name": "python",
   "nbconvert_exporter": "python",
   "pygments_lexer": "ipython3",
   "version": "3.6.5"
  }
 },
 "nbformat": 4,
 "nbformat_minor": 2
}
