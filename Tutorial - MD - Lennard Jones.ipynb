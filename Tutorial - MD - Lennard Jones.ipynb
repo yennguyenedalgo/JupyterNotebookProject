{
 "cells": [
  {
   "cell_type": "markdown",
   "metadata": {
    "slideshow": {
     "slide_type": "skip"
    }
   },
   "source": [
    "# Lennard Jones\n",
    "\n",
    "The Lennard-Jones system is the simplest example of a MD simulation."
   ]
  },
  {
   "cell_type": "markdown",
   "metadata": {
    "slideshow": {
     "slide_type": "slide"
    }
   },
   "source": [
    "## Initialize"
   ]
  },
  {
   "cell_type": "markdown",
   "metadata": {
    "slideshow": {
     "slide_type": "skip"
    }
   },
   "source": [
    "Import the hoomd python package and the md component to execute MD simulations."
   ]
  },
  {
   "cell_type": "code",
   "execution_count": 97,
   "metadata": {
    "slideshow": {
     "slide_type": "fragment"
    }
   },
   "outputs": [],
   "source": [
    "from math import *\n",
    "import hoomd\n",
    "import hoomd.md\n",
    "import hoomd.deprecated\n",
    "import numpy \n",
    "from matplotlib import pyplot as plt \n",
    "import gsd \n",
    "import gsd.hoomd\n",
    "import gsd.pygsd"
   ]
  },
  {
   "cell_type": "markdown",
   "metadata": {
    "slideshow": {
     "slide_type": "skip"
    }
   },
   "source": [
    "Initialize the execution context to control where HOOMD will execute the simulation. When no command line options are provided, HOOMD will auto-select a GPU if it exists, or run on the CPU."
   ]
  },
  {
   "cell_type": "code",
   "execution_count": 98,
   "metadata": {
    "slideshow": {
     "slide_type": "subslide"
    }
   },
   "outputs": [],
   "source": [
    "hoomd.context.initialize(\"\");"
   ]
  },
  {
   "cell_type": "markdown",
   "metadata": {
    "slideshow": {
     "slide_type": "skip"
    }
   },
   "source": [
    "Initialize a $n$ by $n$ by $n$ simple cubic lattice of particles. The lattice initializer by default creates all particles named type \"A\", and with 0 velocity."
   ]
  },
  {
   "cell_type": "code",
   "execution_count": 99,
   "metadata": {
    "slideshow": {
     "slide_type": "subslide"
    }
   },
   "outputs": [
    {
     "name": "stdout",
     "output_type": "stream",
     "text": [
      "notice(2): Group \"all\" created containing 125 particles\n"
     ]
    }
   ],
   "source": [
    "hoomd.init.create_lattice(unitcell=hoomd.lattice.sc(a=2.0), n=5);"
   ]
  },
  {
   "cell_type": "markdown",
   "metadata": {},
   "source": [
    "**Parameters:**"
   ]
  },
  {
   "cell_type": "code",
   "execution_count": 100,
   "metadata": {},
   "outputs": [],
   "source": [
    "change_seed = 650786\n",
    "\"\"\"Lennard-Jones style Normalized parameters\"\"\"\n",
    "kB_r            = 1 \n",
    "mass_r          = 1 \n",
    "LJ_sigma_r      = 1 \n",
    "LJ_epsilon_r    = 1 \n",
    "r_cut_LJ_r      = 2.5\n",
    "time_step_r     = 0.005\n",
    "drag_coeff_r    = 1\n",
    "T_r             = 0.2                            \n",
    "sim_time_r      = 100e3\n",
    "log_period_r    = 1e2"
   ]
  },
  {
   "cell_type": "markdown",
   "metadata": {
    "slideshow": {
     "slide_type": "slide"
    }
   },
   "source": [
    "## Define potential energy\n",
    "\n",
    "$ V(r) = 4 \\varepsilon \\left[ \\left( \\frac{\\sigma}{r} \\right)^{12} - \\left( \\frac{\\sigma}{r} \\right)^{6} \\right] $"
   ]
  },
  {
   "cell_type": "markdown",
   "metadata": {
    "slideshow": {
     "slide_type": "skip"
    }
   },
   "source": [
    "In the Lennard-Jones system, pairs of particles closer than $r_\\mathrm{cut}$ interact with this potential energy.\n",
    "\n",
    "Choose the neighbor list acceleration structure to find neighboring particles efficiently. In systems with only one cutoff length, the cell method performs best."
   ]
  },
  {
   "cell_type": "code",
   "execution_count": 101,
   "metadata": {
    "slideshow": {
     "slide_type": "fragment"
    }
   },
   "outputs": [],
   "source": [
    "#nl = hoomd.md.nlist.cell();"
   ]
  },
  {
   "cell_type": "markdown",
   "metadata": {
    "slideshow": {
     "slide_type": "skip"
    }
   },
   "source": [
    "Define the functional form of the pair interaction and evaluate using the given neighbor list acceleration structure."
   ]
  },
  {
   "cell_type": "code",
   "execution_count": 102,
   "metadata": {
    "slideshow": {
     "slide_type": "fragment"
    }
   },
   "outputs": [],
   "source": [
    "#lj = hoomd.md.pair.lj(r_cut=r_cut_LJ_r, nlist=nl)"
   ]
  },
  {
   "cell_type": "markdown",
   "metadata": {
    "slideshow": {
     "slide_type": "skip"
    }
   },
   "source": [
    "Specify pair potential parameters for every pair of types in the simulation."
   ]
  },
  {
   "cell_type": "code",
   "execution_count": 103,
   "metadata": {
    "slideshow": {
     "slide_type": "fragment"
    }
   },
   "outputs": [],
   "source": [
    "#lj.pair_coeff.set('A', 'A', epsilon=LJ_epsilon_r, sigma=LJ_sigma_r);"
   ]
  },
  {
   "cell_type": "markdown",
   "metadata": {
    "slideshow": {
     "slide_type": "slide"
    }
   },
   "source": [
    "## Select integrator"
   ]
  },
  {
   "cell_type": "markdown",
   "metadata": {
    "slideshow": {
     "slide_type": "skip"
    }
   },
   "source": [
    "The integrator defines the equations of motion that govern the system of particles, given the current configuration of the particles and the net force from all potentials. The standard integration mode in HOOMD allows different integrators to apply to different groups of particles with the same step size $dt$."
   ]
  },
  {
   "cell_type": "code",
   "execution_count": 104,
   "metadata": {
    "slideshow": {
     "slide_type": "fragment"
    }
   },
   "outputs": [],
   "source": [
    "hoomd.md.integrate.mode_standard(dt=time_step_r);"
   ]
  },
  {
   "cell_type": "markdown",
   "metadata": {
    "slideshow": {
     "slide_type": "skip"
    }
   },
   "source": [
    "Apply the Langevin equations of motion to all particles. $kT$ defines the temperature of the system in energy units and *seed* defines the seed for the random number generator."
   ]
  },
  {
   "cell_type": "code",
   "execution_count": 105,
   "metadata": {
    "slideshow": {
     "slide_type": "fragment"
    }
   },
   "outputs": [
    {
     "name": "stdout",
     "output_type": "stream",
     "text": [
      "notice(2): integrate.langevin/bd is using specified gamma values\n"
     ]
    }
   ],
   "source": [
    "all = hoomd.group.all();\n",
    "hoomd.md.integrate.langevin(group=all, kT=kB_r*T_r, seed=change_seed);"
   ]
  },
  {
   "cell_type": "markdown",
   "metadata": {
    "slideshow": {
     "slide_type": "slide"
    }
   },
   "source": [
    "## Write output"
   ]
  },
  {
   "cell_type": "markdown",
   "metadata": {
    "slideshow": {
     "slide_type": "skip"
    }
   },
   "source": [
    "Periodically log the potential energy of the system to a text file."
   ]
  },
  {
   "cell_type": "code",
   "execution_count": 106,
   "metadata": {
    "slideshow": {
     "slide_type": "fragment"
    }
   },
   "outputs": [],
   "source": [
    "hoomd.analyze.log(filename=\"log-output.log\",\n",
    "                  quantities=['potential_energy', 'temperature'],\n",
    "                  period=log_period_r,\n",
    "                  overwrite=True);"
   ]
  },
  {
   "cell_type": "markdown",
   "metadata": {
    "slideshow": {
     "slide_type": "skip"
    }
   },
   "source": [
    "Periodically write the particle configurations to a gsd file."
   ]
  },
  {
   "cell_type": "code",
   "execution_count": 107,
   "metadata": {
    "slideshow": {
     "slide_type": "fragment"
    }
   },
   "outputs": [],
   "source": [
    "hoomd.dump.gsd(\"trajectory.gsd\", period=2e3, group=all, overwrite=True);"
   ]
  },
  {
   "cell_type": "code",
   "execution_count": 108,
   "metadata": {},
   "outputs": [
    {
     "data": {
      "text/plain": [
       "<hoomd.deprecated.analyze.msd at 0x11723f5d0>"
      ]
     },
     "execution_count": 108,
     "metadata": {},
     "output_type": "execute_result"
    }
   ],
   "source": [
    "hoomd.deprecated.analyze.msd(filename='msd.log',\n",
    "                  groups=[all],\n",
    "                  period=log_period_r,\n",
    "                  overwrite=True)"
   ]
  },
  {
   "cell_type": "markdown",
   "metadata": {
    "slideshow": {
     "slide_type": "slide"
    }
   },
   "source": [
    "## Run the simulation"
   ]
  },
  {
   "cell_type": "markdown",
   "metadata": {
    "slideshow": {
     "slide_type": "skip"
    }
   },
   "source": [
    "Take 10,000 steps forward in time."
   ]
  },
  {
   "cell_type": "code",
   "execution_count": 109,
   "metadata": {
    "slideshow": {
     "slide_type": "fragment"
    }
   },
   "outputs": [
    {
     "name": "stdout",
     "output_type": "stream",
     "text": [
      "** starting run **\n",
      "Time 00:00:01 | Step 100000 / 100000 | TPS 69792.3 | ETA 00:00:00\n",
      "Average TPS: 69641.1\n",
      "---------\n",
      "** run complete **\n"
     ]
    }
   ],
   "source": [
    "hoomd.run(sim_time_r);"
   ]
  },
  {
   "cell_type": "markdown",
   "metadata": {
    "slideshow": {
     "slide_type": "slide"
    }
   },
   "source": [
    "## Examine the output"
   ]
  },
  {
   "cell_type": "markdown",
   "metadata": {
    "slideshow": {
     "slide_type": "skip"
    }
   },
   "source": [
    "Use matplotlib to plot the potential energy vs time step."
   ]
  },
  {
   "cell_type": "code",
   "execution_count": 110,
   "metadata": {
    "slideshow": {
     "slide_type": "fragment"
    }
   },
   "outputs": [],
   "source": [
    "import numpy \n",
    "from matplotlib import pyplot\n",
    "%matplotlib inline\n",
    "data = numpy.genfromtxt(fname='log-output.log', skip_header=True);"
   ]
  },
  {
   "cell_type": "markdown",
   "metadata": {},
   "source": [
    "Obtain msd, plot msd vs. time, calculate D_theory and D_sim"
   ]
  },
  {
   "cell_type": "code",
   "execution_count": 116,
   "metadata": {},
   "outputs": [
    {
     "name": "stdout",
     "output_type": "stream",
     "text": [
      "LinregressResult(slope=1.2370809890414431, intercept=-0.20904981318392402, rvalue=0.9974784143361957, pvalue=0.0, stderr=0.0031177649954395293)\n",
      "D_sim: 0.20127541883333333\n",
      "D_sim_2: 0.20618016484024052\n",
      "D_theory: 0.2\n"
     ]
    },
    {
     "data": {
      "image/png": "[encoded data removed]",
      "text/plain": [
       "<Figure size 840x560 with 1 Axes>"
      ]
     },
     "metadata": {},
     "output_type": "display_data"
    }
   ],
   "source": [
    "msd = numpy.genfromtxt(fname='msd.log', skip_header=True);\n",
    "x = msd[201:,0]*time_step_r\n",
    "y = msd[201:,1]\n",
    "\n",
    "from scipy.stats import linregress\n",
    "print(linregress(x,y)) #x and y are arrays or lists.   \n",
    "slope, intercept, r_value, p_value, std_err = linregress(x, y)\n",
    "\n",
    "D_sim = (msd[-1,1] - msd[201,1]) / ((sim_time_r-20e3)*time_step_r) / 6 \n",
    "D_sim_2 = slope / 6\n",
    "D_theory = kB_r * T_r / drag_coeff_r\n",
    "print(\"D_sim: \"+str(D_sim))\n",
    "print(\"D_sim_2: \"+str(D_sim_2))\n",
    "print(\"D_theory: \"+str(D_theory))\n",
    "           \n",
    "plt.figure(figsize=None, dpi=140);\n",
    "plt.plot(x, y, 'x');\n",
    "plt.xlabel('time');\n",
    "plt.ylabel('MSD');\n",
    "plt.grid(True)"
   ]
  },
  {
   "cell_type": "code",
   "execution_count": 113,
   "metadata": {
    "slideshow": {
     "slide_type": "subslide"
    }
   },
   "outputs": [
    {
     "data": {
      "image/png": "[encoded data removed]",
      "text/plain": [
       "<Figure size 560x308 with 1 Axes>"
      ]
     },
     "metadata": {},
     "output_type": "display_data"
    }
   ],
   "source": [
    "pyplot.figure(figsize=(4,2.2), dpi=140);\n",
    "pyplot.plot(data[:,0], data[:,1]);\n",
    "pyplot.xlabel('time step');\n",
    "pyplot.ylabel('potential_energy');"
   ]
  },
  {
   "cell_type": "code",
   "execution_count": 114,
   "metadata": {
    "scrolled": true,
    "slideshow": {
     "slide_type": "subslide"
    }
   },
   "outputs": [
    {
     "data": {
      "image/png": "[encoded data removed]",
      "text/plain": [
       "<Figure size 560x308 with 1 Axes>"
      ]
     },
     "metadata": {},
     "output_type": "display_data"
    }
   ],
   "source": [
    "pyplot.figure(figsize=(4,2.2), dpi=140);\n",
    "pyplot.plot(data[:,0], data[:,2]);\n",
    "pyplot.xlabel('time step');\n",
    "pyplot.ylabel('temperature');"
   ]
  },
  {
   "cell_type": "markdown",
   "metadata": {},
   "source": [
    "Examine how the system configuration evolves over time. [ex_render](ex_render.py) is a helper script that builds animated gifs from trajectory files and system snapshots. It is part of the [hoomd-examples](https://bitbucket.org/glotzer/hoomd-examples) repository and designed only to render these examples."
   ]
  },
  {
   "cell_type": "code",
   "execution_count": 115,
   "metadata": {
    "slideshow": {
     "slide_type": "subslide"
    }
   },
   "outputs": [],
   "source": [
    "#import ex_render\n",
    "#ex_render.display_movie(ex_render.render_sphere_frame, 'trajectory.gsd');"
   ]
  }
 ],
 "metadata": {
  "kernelspec": {
   "display_name": "Python 2",
   "language": "python",
   "name": "python2"
  },
  "language_info": {
   "codemirror_mode": {
    "name": "ipython",
    "version": 2
   },
   "file_extension": ".py",
   "mimetype": "text/x-python",
   "name": "python",
   "nbconvert_exporter": "python",
   "pygments_lexer": "ipython2",
   "version": "2.7.15"
  }
 },
 "nbformat": 4,
 "nbformat_minor": 2
}
