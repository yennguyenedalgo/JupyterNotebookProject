{
 "cells": [
  {
   "cell_type": "markdown",
   "metadata": {},
   "source": [
    "# Mean square displacement for GSD file from hoomd"
   ]
  },
  {
   "cell_type": "markdown",
   "metadata": {},
   "source": [
    "**Author**: _YeNguyenEdalgo_"
   ]
  },
  {
   "cell_type": "markdown",
   "metadata": {},
   "source": [
    "**Function**\n",
    "    1. Read a GSD file from HOOMD in Pure python reader\n",
    "    2. Perform MSD calculation "
   ]
  },
  {
   "cell_type": "code",
   "execution_count": 21,
   "metadata": {},
   "outputs": [],
   "source": [
    "\"\"\"Specify name of the trajectory file\"\"\"\n",
    "\n",
    "type = 'weakCoupling'"
   ]
  },
  {
   "cell_type": "code",
   "execution_count": 22,
   "metadata": {},
   "outputs": [],
   "source": [
    "from math import *\n",
    "import numpy as np \n",
    "from matplotlib import pyplot as plt \n",
    "import gsd \n",
    "import gsd.hoomd\n",
    "import gsd.pygsd"
   ]
  },
  {
   "cell_type": "markdown",
   "metadata": {},
   "source": [
    "**Parameters**\n",
    "\n",
    "Parameter values are obtained from LAMMPS simulation of magnetic colloids by Faraudo_2011_SI"
   ]
  },
  {
   "cell_type": "code",
   "execution_count": 23,
   "metadata": {},
   "outputs": [
    {
     "name": "stdout",
     "output_type": "stream",
     "text": [
      "mass: 1\n",
      "sigma: 1\n",
      "epsilon: 1\n",
      "box_length: 93.0\n",
      "r_cut_LJ: 1.0\n",
      "r_cut_dd: 10.0\n",
      "time_step: 0.00015908433118154948\n",
      "damp: 6.521697902284872e-10 s\n",
      "re-scale reduced drag: 0.09734940238013003\n",
      "Temp: 0.3186111969230769\n",
      "dipole_moment: 1.262963547802122\n",
      "sim_time: 0.1 sec\n",
      "log_period: 196.078431372549 frames\n",
      "concentration is 5.211616235079696 g/L\n",
      "volume fraction is 5.207626e-03\n",
      "D_theory is 5.155060624051553e-12 m2/s\n",
      "corrected damp: 6.521697902284872e-10 s\n"
     ]
    }
   ],
   "source": [
    "\"\"\"Reference value\"\"\"\n",
    "mass            = 5.24e-19                                  #kg/particle\n",
    "LJ_sigma        = 100                                       #nm \n",
    "LJ_epsilon      = 1.3e-20                                   #J or kg m2 s-2\n",
    "time_scale      = LJ_sigma*(mass/LJ_epsilon)**(1/2)*1e-9    #sec\n",
    "kB              = 1.38064852e-23                            #kg m2 s-2 K-1\n",
    "\n",
    "\"\"\"Real Units\"\"\"\n",
    "par_ls          = 20                   #particle  \n",
    "box_length      = 9.3e3                 #nm\n",
    "NP_diameter     = 100                  #nm\n",
    "r_cut_LJ        = NP_diameter          #nm \n",
    "r_cut_dd        = 1000                 #nm \n",
    "time_step       = 1.01e-10              #s  \n",
    "viscosity       = 8.5251e-4            #N m-2 s-1 #NIST at water density=1000g/L\n",
    "damp            = mass / (3*pi * viscosity * NP_diameter*1e-9) #s\n",
    "#damp            = 0.5545e-9            #s\n",
    "#damp            = 55.6e-9              #s\n",
    "T               = 300                  #K  \n",
    "dipole_moment   = 1.44e-17             #J/T \n",
    "mag_const       = 4*pi*1e-7            #T m A-1 \n",
    "sim_time        = 0.1                  #s  \n",
    "log_period      = 0.51e-3              #s                   \n",
    "\n",
    "\"\"\"Normalized\"\"\"\n",
    "mass_r          = 1 \n",
    "LJ_sigma_r      = 1 \n",
    "LJ_epsilon_r    = 1 \n",
    "box_length_r    = box_length / LJ_sigma \n",
    "NP_diameter_r   = NP_diameter / LJ_sigma \n",
    "r_cut_LJ_r      = r_cut_LJ / LJ_sigma\n",
    "r_cut_dd_r      = r_cut_dd / LJ_sigma \n",
    "time_step_r     = time_step / time_scale\n",
    "damp_r          = damp / time_scale\n",
    "drag_coeff_r    = 0.0001 * mass_r / damp_r\n",
    "T_r             = T * kB / LJ_epsilon\n",
    "dipole_moment_r = dipole_moment / ((4*pi/mag_const*(LJ_sigma*1e-9)**3*LJ_epsilon)**(1/2))                              \n",
    "sim_time_r      = sim_time / time_scale\n",
    "log_period_r    = log_period / time_scale\n",
    "\n",
    "print(\"mass: \"+str(mass_r),\n",
    "      \"sigma: \"+str(LJ_sigma_r),\n",
    "      \"epsilon: \"+str(LJ_epsilon_r),\n",
    "      \"box_length: \"+str(box_length_r), \n",
    "      \"r_cut_LJ: \"+str(r_cut_LJ_r), \n",
    "      \"r_cut_dd: \"+str(r_cut_dd_r), \n",
    "      \"time_step: \"+str(time_step_r), \n",
    "      \"damp: \"+str(damp)+ \" s\",\n",
    "      \"re-scale reduced drag: \"+str(drag_coeff_r), \n",
    "      \"Temp: \"+str(T_r),\n",
    "      \"dipole_moment: \"+str(dipole_moment_r),\n",
    "      \"sim_time: \"+str(sim_time)+\" sec\",\n",
    "      \"log_period: \"+str(sim_time/log_period)+\" frames\",\n",
    "      sep=\"\\n\")\n",
    "\n",
    "\"\"\"Concentration, volume fraction, and diffusion Check\"\"\"\n",
    "sys_vol         = box_length**3*1e-24                       #liter\n",
    "par_vol         = 4/3*pi*(NP_diameter/2)**3*1e-24           #liter\n",
    "concentration   = mass*par_ls**3*1e3/sys_vol                #g/L\n",
    "vol_fraction    = format(par_vol*par_ls**3/sys_vol, 'e')\n",
    "diffusion_coeff = kB*T / (3*pi*viscosity*NP_diameter*1e-9) \n",
    "print(\"concentration is \"+str(concentration)+\" g/L\")\n",
    "print(\"volume fraction is \"+str(vol_fraction))\n",
    "print(\"D_theory is \"+str(diffusion_coeff)+\" m2/s\")\n",
    "print(\"corrected damp: \"+str(damp)+\" s\")"
   ]
  },
  {
   "cell_type": "markdown",
   "metadata": {},
   "source": [
    "**Calculate msd**\n",
    "\n",
    "\\begin{equation}\n",
    "    \\langle r^2 \\rangle = \\langle x^2 \\rangle + \\langle y^2 \\rangle + \\langle z^2 \\rangle\n",
    "\\end{equation}\n",
    "\n",
    "\\begin{equation}\n",
    "    \\langle x^2 \\rangle= \\frac{1}{N}\\sum^N_{i=1}\\big(x(t)-x(0)\\big)^2\n",
    "\\end{equation}\n",
    "\n",
    "\\begin{equation}\n",
    "    \\langle y^2 \\rangle= \\frac{1}{N}\\sum^N_{i=1}\\big(y(t)-y(0)\\big)^2\n",
    "\\end{equation}\n",
    "\n",
    "\\begin{equation}\n",
    "    \\langle z^2 \\rangle= \\frac{1}{N}\\sum^N_{i=1}\\big(z(t)-z(0)\\big)^2\n",
    "\\end{equation}\n",
    "\n",
    "where $\\langle r^2 \\rangle$ is the mean square displacement for a Brownian partilce in 3D; $x(t)$, $y(t)$, $z(t)$ are positions of each particle in the $xyz$ coordinates at time $t$, respectively; $N$ is the number of particles."
   ]
  },
  {
   "cell_type": "code",
   "execution_count": 24,
   "metadata": {},
   "outputs": [],
   "source": [
    "frame = gsd.pygsd.GSDFile(open('Data/trajectory_'+type+'.gsd', 'rb'))\n",
    "#frame = gsd.pygsd.GSDFile(open('test.gsd','rb'))\n",
    "traj_ls = gsd.hoomd.HOOMDTrajectory(frame)\n",
    "\n",
    "msd = np.array([])\n",
    "for i in range (len(traj_ls)):\n",
    "    r_0 = np.array(traj_ls[0].particles.position)\n",
    "    delta_r_sq = np.sum(np.average(np.square(traj_ls[i].particles.position-r_0), axis=0),axis=0)\n",
    "    msd = np.reshape(np.append(msd, delta_r_sq),(i+1,1))"
   ]
  },
  {
   "cell_type": "markdown",
   "metadata": {},
   "source": [
    "**Plot the results and calculate diffusion coefficient**\n",
    "\n",
    "Diffusion coefficient obtained from the simulation trajectory ($D_{sim}$) is evaluated as:\n",
    "\n",
    "\\begin{equation}\n",
    "     D_{sim} = \\frac{\\langle r^2 \\rangle}{6t}\n",
    "\\end{equation}\n",
    "\n",
    "$D_{sim}$ is compared with the diffusion coefficient obtained from theory $D_{theory}$ given as:\n",
    "\n",
    "\\begin{equation}\n",
    "    D_{theory} = \\frac{k_BT}{3\\pi\\eta d_p}\n",
    "\\label{D_theory}\n",
    "\\end{equation}\n",
    "\n",
    "\\begin{equation}\n",
    "    \\eta = \\frac{m}{3\\pi\\tau d_p}\n",
    "\\label{Viscosity}\n",
    "\\end{equation}\n",
    "\n",
    "where $k_B T$ is the Boltzmann temperature, $d_p$ is the diameter of the colloidal particle, $m$ is the mass of each particle, $\\eta$ is the solvent viscosity and $\\tau$ is the damping parameter. "
   ]
  },
  {
   "cell_type": "code",
   "execution_count": 25,
   "metadata": {},
   "outputs": [
    {
     "name": "stdout",
     "output_type": "stream",
     "text": [
      "D_sim = 3.699649302164713e-12 m2/s\n"
     ]
    },
    {
     "data": {
      "image/png": "[encoded data removed]",
      "text/plain": [
       "<Figure size 840x560 with 1 Axes>"
      ]
     },
     "metadata": {},
     "output_type": "display_data"
    }
   ],
   "source": [
    "x = np.arange(0,sim_time,log_period) \n",
    "y = 1/6 * msd * (LJ_sigma*1e-9)**2\n",
    "\n",
    "Dif_coef = 1/6 * msd[-1,0] * (LJ_sigma*1e-9)**2 / sim_time\n",
    "print('D_sim = '+str(Dif_coef)+' m2/s')\n",
    "\n",
    "plt.figure(figsize=None, dpi=140);\n",
    "plt.plot(x, y, 'x');\n",
    "plt.xlabel('time step (sec)');\n",
    "plt.ylabel('MSD/6 (m2)')\n",
    "#plt.ylabel('$\\frac{\\langle r^2 \\rangle}{6}$ (m^2)');\n",
    "plt.grid(True)\n",
    "plt.savefig('Figures/msd_calc_'+type+'.pdf')"
   ]
  }
 ],
 "metadata": {
  "kernelspec": {
   "display_name": "Python 3",
   "language": "python",
   "name": "python3"
  },
  "language_info": {
   "codemirror_mode": {
    "name": "ipython",
    "version": 3
   },
   "file_extension": ".py",
   "mimetype": "text/x-python",
   "name": "python",
   "nbconvert_exporter": "python",
   "pygments_lexer": "ipython3",
   "version": "3.6.5"
  }
 },
 "nbformat": 4,
 "nbformat_minor": 2
}
